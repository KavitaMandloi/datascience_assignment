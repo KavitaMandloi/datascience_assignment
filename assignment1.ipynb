{
 "cells": [
  {
   "cell_type": "code",
   "execution_count": 7,
   "metadata": {},
   "outputs": [
    {
     "name": "stdout",
     "output_type": "stream",
     "text": [
      "<class 'int'>\n",
      "<class 'str'>\n",
      "<class 'float'>\n"
     ]
    }
   ],
   "source": [
    "'''---------------------------1--------------------------\n",
    "\n",
    "\n",
    "\n",
    "''the differences between operators and values in the following?\n",
    "\n",
    "\n",
    "*                  --Multiplies values on either side of the operator\n",
    "'hello'              STRING\n",
    "-87.8                float\n",
    "-                     minus\n",
    "/                      divide\n",
    "+                      add\n",
    "6                     integer\n",
    "'''\n",
    "\n",
    "\n",
    "\n",
    "m=6 \n",
    "print (type(m))\n",
    "j='hello' \n",
    "print (type(j))\n",
    "i= -87.8\n",
    "print (type(i))"
   ]
  },
  {
   "cell_type": "code",
   "execution_count": 8,
   "metadata": {},
   "outputs": [
    {
     "name": "stdout",
     "output_type": "stream",
     "text": [
      "<class 'int'>\n"
     ]
    }
   ],
   "source": [
    "'''-----------------2---------------------------.\n",
    "\n",
    "a string is a value representing text\n",
    "\n",
    "a variable is a name that can refer to any value'''\n",
    "\n",
    "spam=1\n",
    "print (type(spam))"
   ]
  },
  {
   "cell_type": "code",
   "execution_count": 10,
   "metadata": {},
   "outputs": [
    {
     "name": "stdout",
     "output_type": "stream",
     "text": [
      "<class 'str'>\n"
     ]
    }
   ],
   "source": [
    "i='spam'\n",
    "print (type(i))"
   ]
  },
  {
   "cell_type": "code",
   "execution_count": 11,
   "metadata": {},
   "outputs": [
    {
     "data": {
      "text/plain": [
       "'-------------------------3----------------------\\nDescribe three different data forms.\\n\\n1. Integer \\nPositive or negative whole numbers\\n\\n2. Strings: strings are sequences of character data\\n\\n3. bool: Data with one of two built-in values True or False\\n\\n'"
      ]
     },
     "execution_count": 11,
     "metadata": {},
     "output_type": "execute_result"
    }
   ],
   "source": [
    "'''-------------------------3----------------------\n",
    "Describe three different data forms.\n",
    "\n",
    "1. Integer \n",
    "Positive or negative whole numbers\n",
    "\n",
    "2. Strings: strings are sequences of character data\n",
    "\n",
    "3. bool: Data with one of two built-in values True or False\n",
    "\n",
    "'''\n",
    "\n",
    "\n"
   ]
  },
  {
   "cell_type": "code",
   "execution_count": 12,
   "metadata": {},
   "outputs": [
    {
     "data": {
      "text/plain": [
       "'--------------------5---------------------------\\nthe\\ndifference between a declaration and an expression?\\n\\n\\nPython has no command for declaring a variable. A variable is created the moment you first assign a value to it.\\n\\n\\n\\n\\n'"
      ]
     },
     "execution_count": 12,
     "metadata": {},
     "output_type": "execute_result"
    }
   ],
   "source": [
    "'''----------------4--------------------------\n",
    "\n",
    "What makes up an expression? What are the functions of all expressions?\n",
    "\n",
    "\n",
    "An expression is an instruction that combines values and operators and always evaluates down to a single value. \n",
    "For example, this is an expression:  2 + 2.\n",
    "\n",
    "A function is a block of organized, reusable code that is used to perform a single, related action.\n",
    "\n",
    "\n",
    "\n",
    "'''\n",
    "\n",
    "\n",
    "\n",
    "'''--------------------5---------------------------\n",
    "the\n",
    "difference between a declaration and an expression?\n",
    "\n",
    "\n",
    "Python has no command for declaring a variable. A variable is created the moment you first assign a value to it.\n",
    "\n",
    "An expression is an instruction that combines values and operators and always evaluates down to a single value. \n",
    "For example, this is an expression:  2 + 2.\n",
    "\n",
    "\n",
    "\n",
    "'''"
   ]
  },
  {
   "cell_type": "code",
   "execution_count": 14,
   "metadata": {},
   "outputs": [
    {
     "name": "stdout",
     "output_type": "stream",
     "text": [
      "<class 'int'>\n"
     ]
    }
   ],
   "source": [
    "spam=10\n",
    "print (type(spam))"
   ]
  },
  {
   "cell_type": "code",
   "execution_count": 16,
   "metadata": {},
   "outputs": [
    {
     "name": "stdout",
     "output_type": "stream",
     "text": [
      "22\n"
     ]
    }
   ],
   "source": [
    "'''-----------------6-------------------------\n",
    "\n",
    "\n",
    "bacon=22\n",
    "bacon+1\n",
    "\n",
    "\n",
    "\n",
    "value of bacon is 22\n",
    "\n",
    "'''\n",
    "\n",
    "\n",
    "bacon=22\n",
    "bacon+1\n",
    "print(bacon)\n"
   ]
  },
  {
   "cell_type": "code",
   "execution_count": 17,
   "metadata": {},
   "outputs": [
    {
     "data": {
      "text/plain": [
       "'spamspamspam'"
      ]
     },
     "execution_count": 17,
     "metadata": {},
     "output_type": "execute_result"
    }
   ],
   "source": [
    "'''-------------------------------7--------------------------------\n",
    "\n",
    " the values of the following two terms be?\n",
    "\n",
    "'spam' + 'spamspam'\n",
    "'spam' * 3\n",
    "\n",
    "'''\n",
    "\n",
    "'spam' + 'spamspam'\n",
    "'spam' * 3\n",
    "\n",
    "\n",
    "\n",
    "-ans- 'spamspamspam'"
   ]
  },
  {
   "cell_type": "code",
   "execution_count": 18,
   "metadata": {},
   "outputs": [
    {
     "data": {
      "text/plain": [
       "'spamspamspam'"
      ]
     },
     "execution_count": 18,
     "metadata": {},
     "output_type": "execute_result"
    }
   ],
   "source": [
    "'spam' + 'spamspam'"
   ]
  },
  {
   "cell_type": "code",
   "execution_count": 19,
   "metadata": {},
   "outputs": [
    {
     "data": {
      "text/plain": [
       "'spamspamspam'"
      ]
     },
     "execution_count": 19,
     "metadata": {},
     "output_type": "execute_result"
    }
   ],
   "source": [
    "'spam' * 3"
   ]
  },
  {
   "cell_type": "code",
   "execution_count": 20,
   "metadata": {},
   "outputs": [
    {
     "ename": "SyntaxError",
     "evalue": "EOF while scanning triple-quoted string literal (<ipython-input-20-eb0fbb4132ff>, line 12)",
     "output_type": "error",
     "traceback": [
      "\u001b[1;36m  File \u001b[1;32m\"<ipython-input-20-eb0fbb4132ff>\"\u001b[1;36m, line \u001b[1;32m12\u001b[0m\n\u001b[1;33m    \u001b[0m\n\u001b[1;37m    ^\u001b[0m\n\u001b[1;31mSyntaxError\u001b[0m\u001b[1;31m:\u001b[0m EOF while scanning triple-quoted string literal\n"
     ]
    }
   ],
   "source": [
    "'''---------------------8------------------------------\n",
    "\n",
    "\n",
    "8. Why is it that eggs is a true variable name but 100 is not?\n",
    "\n",
    "\n",
    "Python lets you create variables simply by assigning a value to the variable like eggs.\n",
    "\n",
    "\n",
    "100 is not a true variable because its SyntaxError: cannot assign to literal"
   ]
  },
  {
   "cell_type": "code",
   "execution_count": 21,
   "metadata": {},
   "outputs": [
    {
     "name": "stdout",
     "output_type": "stream",
     "text": [
      "<class 'int'>\n"
     ]
    }
   ],
   "source": [
    "eggs=100\n",
    "print(type(eggs))"
   ]
  },
  {
   "cell_type": "code",
   "execution_count": 22,
   "metadata": {},
   "outputs": [
    {
     "ename": "SyntaxError",
     "evalue": "cannot assign to literal (<ipython-input-22-b186025fc55a>, line 1)",
     "output_type": "error",
     "traceback": [
      "\u001b[1;36m  File \u001b[1;32m\"<ipython-input-22-b186025fc55a>\"\u001b[1;36m, line \u001b[1;32m1\u001b[0m\n\u001b[1;33m    100=eggs\u001b[0m\n\u001b[1;37m    ^\u001b[0m\n\u001b[1;31mSyntaxError\u001b[0m\u001b[1;31m:\u001b[0m cannot assign to literal\n"
     ]
    }
   ],
   "source": [
    "100=eggs\n",
    "print(type(100))"
   ]
  },
  {
   "cell_type": "code",
   "execution_count": 23,
   "metadata": {},
   "outputs": [
    {
     "data": {
      "text/plain": [
       "'-----------------------9--------------------------------\\nWhich of the following three functions may be used to convert a value to an integer, \\na floating-point number, or a string?\\n\\n the valueOf(String) method returns an object of Integer class \\n\\n\\n\\n'"
      ]
     },
     "execution_count": 23,
     "metadata": {},
     "output_type": "execute_result"
    }
   ],
   "source": [
    "'''-----------------------9--------------------------------\n",
    "Which of the following three functions may be used to convert a value to an integer, \n",
    "a floating-point number, or a string?\n",
    "\n",
    " the valueOf(String) method returns an object of Integer class \n",
    "\n",
    "\n",
    "\n",
    "'''\n"
   ]
  },
  {
   "cell_type": "code",
   "execution_count": 24,
   "metadata": {},
   "outputs": [
    {
     "ename": "TypeError",
     "evalue": "can only concatenate str (not \"int\") to str",
     "output_type": "error",
     "traceback": [
      "\u001b[1;31m---------------------------------------------------------------------------\u001b[0m",
      "\u001b[1;31mTypeError\u001b[0m                                 Traceback (most recent call last)",
      "\u001b[1;32m<ipython-input-24-9e5d7250e638>\u001b[0m in \u001b[0;36m<module>\u001b[1;34m\u001b[0m\n\u001b[0;32m     10\u001b[0m '''\n\u001b[0;32m     11\u001b[0m \u001b[1;33m\u001b[0m\u001b[0m\n\u001b[1;32m---> 12\u001b[1;33m \u001b[1;34m'I have eaten '\u001b[0m \u001b[1;33m+\u001b[0m \u001b[1;36m99\u001b[0m \u001b[1;33m+\u001b[0m \u001b[1;34m' burritos.'\u001b[0m\u001b[1;33m\u001b[0m\u001b[1;33m\u001b[0m\u001b[0m\n\u001b[0m",
      "\u001b[1;31mTypeError\u001b[0m: can only concatenate str (not \"int\") to str"
     ]
    }
   ],
   "source": [
    "'''-------------------------------10------------------------\n",
    "\n",
    "\n",
    " What is the error caused by this expression? What would you do about it?\n",
    "\n",
    "'I have eaten ' + 99 + ' burritos.'\n",
    "\n",
    " TypeError: can only concatenate str (not \"int\") to str\n",
    " \n",
    " we can only concanate strings not intgers\n",
    " \n",
    "'''\n",
    "\n",
    "'I have eaten ' + 99 + ' burritos.'"
   ]
  },
  {
   "cell_type": "code",
   "execution_count": null,
   "metadata": {},
   "outputs": [],
   "source": []
  }
 ],
 "metadata": {
  "kernelspec": {
   "display_name": "Python 3",
   "language": "python",
   "name": "python3"
  },
  "language_info": {
   "codemirror_mode": {
    "name": "ipython",
    "version": 3
   },
   "file_extension": ".py",
   "mimetype": "text/x-python",
   "name": "python",
   "nbconvert_exporter": "python",
   "pygments_lexer": "ipython3",
   "version": "3.8.5"
  }
 },
 "nbformat": 4,
 "nbformat_minor": 4
}
