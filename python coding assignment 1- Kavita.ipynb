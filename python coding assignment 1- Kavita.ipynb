{
 "cells": [
  {
   "cell_type": "code",
   "execution_count": 2,
   "metadata": {},
   "outputs": [
    {
     "name": "stdout",
     "output_type": "stream",
     "text": [
      "Hello Python\n"
     ]
    }
   ],
   "source": [
    "#Write a Python program to print &quot;Hello Python&quot;?\n",
    "\n",
    "\n",
    "print(\"Hello Python\")"
   ]
  },
  {
   "cell_type": "code",
   "execution_count": 26,
   "metadata": {},
   "outputs": [
    {
     "name": "stdout",
     "output_type": "stream",
     "text": [
      "enter integer 1st-200\n",
      "enter integer 2nd-20\n",
      "SUM of a and b is 220\n",
      "Divivision of a and b is 10.0\n"
     ]
    }
   ],
   "source": [
    "#Write a Python program to do arithmetical operations addition and division.?\n",
    "\n",
    "a= int(input(\"enter integer 1st-\"))\n",
    "b= int(input(\"enter integer 2nd-\"))\n",
    "c=a+b\n",
    "print(\"Sum of a and b is {}\".format(c))\n",
    "d=a/b\n",
    "print(\"Division of a and b is {}\".format(d))"
   ]
  },
  {
   "cell_type": "code",
   "execution_count": 27,
   "metadata": {},
   "outputs": [
    {
     "name": "stdout",
     "output_type": "stream",
     "text": [
      "Enter base of triange11\n",
      "Enter height of triange22\n",
      "Area of triange is 121.0\n"
     ]
    }
   ],
   "source": [
    "#Write a Python program to find the area of a triangle?\n",
    "\n",
    "a= int(input(\"Enter base of triange\"))\n",
    "b= int(input(\"Enter height of triange\"))\n",
    "c=0.5*a*b\n",
    "print (\"Area of triange is {}\".format(c))\n"
   ]
  },
  {
   "cell_type": "code",
   "execution_count": 35,
   "metadata": {},
   "outputs": [
    {
     "name": "stdout",
     "output_type": "stream",
     "text": [
      "enter integer 1st-4\n",
      "enter integer 2nd-5\n",
      "Swapped value of 1st is- 5,Swapped value of 2nd is- 4\n"
     ]
    }
   ],
   "source": [
    "#Write a Python program to swap two variables?\n",
    "\n",
    "a= int(input(\"enter integer 1st-\"))\n",
    "b= int(input(\"enter integer 2nd-\"))\n",
    "temp=a\n",
    "a=b\n",
    "b=temp\n",
    "print (\"Swapped value of 1st is- {},Swapped value of 2nd is- {}\".format(a,b))\n",
    "\n"
   ]
  },
  {
   "cell_type": "code",
   "execution_count": 36,
   "metadata": {},
   "outputs": [
    {
     "name": "stdout",
     "output_type": "stream",
     "text": [
      "91\n"
     ]
    }
   ],
   "source": [
    "#Write a Python program to generate a random number?\n",
    "\n",
    "import random\n",
    "\n",
    "print(random.randint(0,100))"
   ]
  },
  {
   "cell_type": "code",
   "execution_count": null,
   "metadata": {},
   "outputs": [],
   "source": []
  },
  {
   "cell_type": "code",
   "execution_count": null,
   "metadata": {},
   "outputs": [],
   "source": []
  }
 ],
 "metadata": {
  "kernelspec": {
   "display_name": "Python 3",
   "language": "python",
   "name": "python3"
  },
  "language_info": {
   "codemirror_mode": {
    "name": "ipython",
    "version": 3
   },
   "file_extension": ".py",
   "mimetype": "text/x-python",
   "name": "python",
   "nbconvert_exporter": "python",
   "pygments_lexer": "ipython3",
   "version": "3.8.5"
  }
 },
 "nbformat": 4,
 "nbformat_minor": 4
}
